{
 "cells": [
  {
   "cell_type": "markdown",
   "metadata": {},
   "source": [
    "**In this notebook, we reuse the trained model for inference**"
   ]
  },
  {
   "cell_type": "code",
   "execution_count": 9,
   "metadata": {},
   "outputs": [],
   "source": [
    "import pandas as pd\n",
    "import numpy as np\n",
    "import pickle\n",
    "from sklearn.feature_extraction.text import TfidfTransformer"
   ]
  },
  {
   "cell_type": "code",
   "execution_count": 20,
   "metadata": {},
   "outputs": [],
   "source": [
    "def sentiment_predict(classifier, training_matrix, doc):\n",
    "    \"\"\"\n",
    "    Function to predict the sentiment of a product review.\n",
    "\n",
    "    Args:\n",
    "    classifier: pre-trained model\n",
    "    training_matrix: matrix of features associated with the trained model.\n",
    "    doc: product review whose sentiment needs to be identified.\n",
    "    \"\"\"\n",
    "\n",
    "    X_new = training_matrix.transform(pd.Series(doc))\n",
    "    tfidf = TfidfTransformer()\n",
    "    X_tfidf_new = tfidf.fit_transform(X_new)\n",
    "    X_tfidf_new = X_tfidf_new.todense()\n",
    "    \n",
    "    y_pred_new = classifier.predict(np.asarray(X_tfidf_new))\n",
    "\n",
    "    if y_pred_new[0] == 0:\n",
    "        return \"negative sentiment\"\n",
    "    elif y_pred_new[0] == 1:\n",
    "        return \"positive sentiment\"\n",
    "\n",
    "    \n"
   ]
  },
  {
   "cell_type": "code",
   "execution_count": 24,
   "metadata": {},
   "outputs": [
    {
     "data": {
      "text/plain": [
       "'positive sentiment'"
      ]
     },
     "execution_count": 24,
     "metadata": {},
     "output_type": "execute_result"
    }
   ],
   "source": [
    "svc_clf = pickle.load(open(\"svc_sa\", \"rb\"))\n",
    "vectorizer = pickle.load(open(\"vectorizer_sa\", \"rb\"))\n",
    "# new_doc = \"Not even close to the quality one would expect\"\n",
    "new_doc = \"The gadget works like a charm. Very satisfied with the product\"\n",
    "sentiment_predict(svc_clf, vectorizer, new_doc)"
   ]
  },
  {
   "cell_type": "code",
   "execution_count": 25,
   "metadata": {},
   "outputs": [
    {
     "data": {
      "text/plain": [
       "'positive sentiment'"
      ]
     },
     "execution_count": 25,
     "metadata": {},
     "output_type": "execute_result"
    }
   ],
   "source": [
    "nb_clf = pickle.load(open(\"nb_sa\", \"rb\"))\n",
    "sentiment_predict(nb_clf, vectorizer, new_doc)"
   ]
  },
  {
   "cell_type": "code",
   "execution_count": null,
   "metadata": {},
   "outputs": [],
   "source": []
  }
 ],
 "metadata": {
  "kernelspec": {
   "display_name": "NLP Project (Core)",
   "language": "python",
   "name": ".nlp_project_env"
  },
  "language_info": {
   "codemirror_mode": {
    "name": "ipython",
    "version": 3
   },
   "file_extension": ".py",
   "mimetype": "text/x-python",
   "name": "python",
   "nbconvert_exporter": "python",
   "pygments_lexer": "ipython3",
   "version": "3.10.0"
  }
 },
 "nbformat": 4,
 "nbformat_minor": 2
}
